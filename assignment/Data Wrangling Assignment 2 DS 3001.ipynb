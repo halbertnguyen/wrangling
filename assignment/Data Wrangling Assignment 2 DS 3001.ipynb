{
 "cells": [
  {
   "cell_type": "markdown",
   "id": "13ad028b-72b7-43ed-aa78-96fd4e518040",
   "metadata": {
    "id": "13ad028b-72b7-43ed-aa78-96fd4e518040"
   },
   "source": [
    "# Assignment: Data Wrangling - Halbert Nguyen yjc3wr\n",
    "## `! git clone https://github.com/DS3001/wrangling`\n",
    "## Do Q2, and one of Q1 or Q3."
   ]
  },
  {
   "cell_type": "markdown",
   "id": "5735a4d4-8be8-433a-a351-70eb8002e632",
   "metadata": {
    "id": "5735a4d4-8be8-433a-a351-70eb8002e632"
   },
   "source": [
    "**Q1.** Open the \"tidy_data.pdf\" document in the repo, which is a paper called Tidy Data by Hadley Wickham.\n",
    "\n",
    "  1. Read the abstract. What is this paper about?\n",
    "  \n",
    "      This paper is about how important and useful making your tidy is. A tidy dataset is easy to read, analyze, and interpret in order for us to fully understand it. This paper will be about teaching us how to make our data tidy considering the fact that the first sentence states that there is \"little reserach on how to make data cleaning as easy and effective as possible.\"\n",
    "      \n",
    "  2. Read the introduction. What is the \"tidy data standard\" intended to accomplish?\n",
    "  \n",
    "      The tidy data standard allows us to have a process of tidying data, saving us from having to \"reinvent the wheel every time.\" It also is supposed to provoke us to explore and be curious of the data, seeing what it has to offer. \n",
    "      \n",
    "  3. Read the intro to section 2. What does this sentence mean: \"Like families, tidy datasets are all alike but every messy dataset is messy in its own way.\" What does this sentence mean: \"For a given dataset, it’s usually easy to figure out what are observations and what are variables, but it is surprisingly difficult to precisely define variables and observations in general.\"\n",
    "  \n",
    "  The first sentence means that all cleaned datasets should be standarized and similarly simple to work with; however, messy datasets are messy in its own way and require different solutions and methods to clean. The second sentence emphasizes that data is not truly presentable unless someone with no knowledge is able to decipher it. To me, the purpose of a data scientist is to be able to read, interpret, and present data in a way that everybody can understand. \n",
    "      \n",
    "  4. Read Section 2.2. How does Wickham define values, variables, and observations?\n",
    "  \n",
    "  Dataset = collection of values\n",
    "  Variable = all values that measure the same underlying attribute across units\n",
    "  Observation = all values measured on the same unit across attributes\n",
    "      \n",
    "  5. How is \"Tidy Data\" defined in section 2.3?\n",
    "  \n",
    "1. Each variable forms a column.\n",
    "2. Each observation forms a row.\n",
    "3. Each type of observational unit forms a table.\n",
    "  \n",
    "  6. Read the intro to Section 3 and Section 3.1. What are the 5 most common problems with messy datasets? Why are the data in Table 4 messy? What is \"melting\" a dataset?\n",
    "  \n",
    "  Five most common problems with messy datasets:\n",
    "1. Column headers are values, not variable names.\n",
    "2. Multiple variables are stored in one column.\n",
    "3. Variables are stored in both rows and columns.\n",
    "4. Multiple types of observational units are stored in the same table. \n",
    "5. A single observational unit is stored in multiple tables.\n",
    "\n",
    "Melting a dataset is turning the columns into rows\n",
    "\n",
    "Table 4 is messy because \"variables form both the rows and columns, and column headers are values, not variable names.\"\n",
    "  \n",
    "  \n",
    "  7. Why, specifically, is table 11 messy but table 12 tidy and \"molten\"?\n",
    "  \n",
    "  Table 11 has values along the top, while table 12 melts the days into one variable. This still isn't as tidy as we can go, as the element column contains names instead of variables, such as tmax and tmin. Overall, table 12 is tidy because \"all the entries are attributes and not variable names.\"\n",
    "  \n",
    "  8. Read Section 6. What is the \"chicken-and-egg\" problem with focusing on tidy data? What does Wickham hope happens in the future with further work on the subject of data wrangling?\n",
    "  \n",
    "Chicken and Egg problem with focusing on tidy data: \"if tidy data is only as useful as the tools that work with it, then tidy tools will be inextricably linked to tidy data.\"\n",
    "\n",
    "Wickham hopes that in the future, prospective data scientsists will build on these frameworks and develop even better tools for data wrangling and data storage. \n",
    "  "
   ]
  },
  {
   "cell_type": "markdown",
   "id": "da879ea7-8aac-48a3-b6c2-daea56d2e072",
   "metadata": {
    "id": "da879ea7-8aac-48a3-b6c2-daea56d2e072"
   },
   "source": [
    "**Q2.** This question provides some practice cleaning variables which have common problems.\n",
    "1. Numeric variable: For `./data/airbnb_hw.csv`, clean the `Price` variable as well as you can, and explain the choices you make. How many missing values do you end up with? (Hint: What happens to the formatting when a price goes over 999 dollars, say from 675 to 1,112?)\n",
    "2. Categorical variable: For the `./data/sharks.csv` data covered in the lecture, clean the \"Type\" variable as well as you can, and explain the choices you make.\n",
    "3. Dummy variable: For the pretrial data covered in the lecture, clean the `WhetherDefendantWasReleasedPretrial` variable as well as you can, and, in particular, replace missing values with `np.nan`.\n",
    "4. Missing values, not at random: For the pretrial data covered in the lecture, clean the `ImposedSentenceAllChargeInContactEvent` variable as well as you can, and explain the choices you make. (Hint: Look at the `SentenceTypeAllChargesAtConvictionInContactEvent` variable.)"
   ]
  },
  {
   "cell_type": "code",
   "execution_count": 29,
   "id": "88613608",
   "metadata": {},
   "outputs": [
    {
     "name": "stdout",
     "output_type": "stream",
     "text": [
      "(30478, 13) \n",
      "\n",
      "['145' '37' '28' '199' '549' '149' '250' '90' '270' '290' '170' '59' '49'\n",
      " '68' '285' '75' '100' '150' '700' '125' '175' '40' '89' '95' '99' '499'\n",
      " '120' '79' '110' '180' '143' '230' '350' '135' '85' '60' '70' '55' '44'\n",
      " '200' '165' '115' '74' '84' '129' '50' '185' '80' '190' '140' '45' '65'\n",
      " '225' '600' '109' '1,990' '73' '240' '72' '105' '155' '160' '42' '132'\n",
      " '117' '295' '280' '159' '107' '69' '239' '220' '399' '130' '375' '585'\n",
      " '275' '139' '260' '35' '133' '300' '289' '179' '98' '195' '29' '27' '39'\n",
      " '249' '192' '142' '169' '1,000' '131' '138' '113' '122' '329' '101' '475'\n",
      " '238' '272' '308' '126' '235' '315' '248' '128' '56' '207' '450' '215'\n",
      " '210' '385' '445' '136' '247' '118' '77' '76' '92' '198' '205' '299'\n",
      " '222' '245' '104' '153' '349' '114' '320' '292' '226' '420' '500' '325'\n",
      " '307' '78' '265' '108' '123' '189' '32' '58' '86' '219' '800' '335' '63'\n",
      " '229' '425' '67' '87' '1,200' '158' '650' '234' '310' '695' '400' '166'\n",
      " '119' '62' '168' '340' '479' '43' '395' '144' '52' '47' '529' '187' '209'\n",
      " '233' '82' '269' '163' '172' '305' '156' '550' '435' '137' '124' '48'\n",
      " '279' '330' '5,000' '134' '378' '97' '277' '64' '193' '147' '186' '264'\n",
      " '30' '3,000' '112' '94' '379' '57' '415' '236' '410' '214' '88' '66' '71'\n",
      " '171' '157' '545' '1,500' '83' '96' '1,800' '81' '188' '380' '255' '505'\n",
      " '54' '33' '174' '93' '740' '640' '1,300' '440' '599' '357' '1,239' '495'\n",
      " '127' '5,999' '178' '348' '152' '242' '183' '253' '750' '259' '365' '273'\n",
      " '197' '397' '103' '389' '355' '559' '38' '203' '999' '141' '162' '333'\n",
      " '698' '46' '360' '895' '10' '41' '206' '281' '449' '388' '212' '102'\n",
      " '201' '2,750' '4,750' '432' '675' '167' '390' '298' '339' '194' '302'\n",
      " '211' '595' '191' '53' '361' '480' '8,000' '4,500' '459' '997' '345'\n",
      " '216' '218' '111' '735' '276' '91' '490' '850' '398' '36' '775' '267'\n",
      " '625' '336' '2,500' '176' '725' '3,750' '469' '106' '460' '287' '575'\n",
      " '227' '263' '25' '228' '208' '177' '880' '148' '116' '685' '470' '217'\n",
      " '164' '61' '645' '699' '405' '252' '319' '268' '419' '343' '525' '311'\n",
      " '840' '154' '294' '950' '409' '184' '257' '204' '241' '2,000' '412' '121'\n",
      " '288' '196' '900' '647' '524' '1,750' '309' '510' '1,495' '1,700' '799'\n",
      " '383' '372' '492' '327' '1,999' '656' '224' '173' '875' '1,170' '795'\n",
      " '690' '146' '465' '1,100' '151' '274' '429' '825' '282' '256' '1,111'\n",
      " '620' '271' '161' '51' '855' '579' '1,174' '430' '20' '899' '649' '485'\n",
      " '181' '455' '4,000' '243' '342' '590' '560' '374' '437' '232' '359' '985'\n",
      " '31' '244' '254' '723' '237' '428' '370' '34' '1,400' '580' '2,520' '221'\n",
      " '749' '1,600' '2,695' '306' '202' '680' '570' '520' '223' '2,295' '213'\n",
      " '1,065' '346' '24' '286' '296' '266' '26' '995' '1,368' '393' '182' '635'\n",
      " '258' '780' '589' '347' '1,250' '1,350' '446' '3,200' '1,050' '1,650'\n",
      " '1,550' '975' '323' '6,500' '2,499' '1,850' '2,250' '715' '461' '540'\n",
      " '356' '439' '384' '569' '1,900' '22' '785' '626' '830' '318' '444' '321'\n",
      " '401' '1,499' '888' '369' '770' '386' '366' '344' '630' '313' '597' '262'\n",
      " '509' '10,000' '278' '312' '789' '1,195' '422' '21' '765' '3,500' '945'\n",
      " '326' '3,100' '2,486' '3,390' '1,356' '2,599' '472' '454' '328' '396'\n",
      " '291']\n",
      "Total missing: 0\n"
     ]
    }
   ],
   "source": [
    "#1\n",
    "import pandas as pd\n",
    "import numpy as np\n",
    "import seaborn as sns\n",
    "\n",
    "airbnb = pd.read_csv('/Users/nguyen/Desktop/Spring 24/DS 3001/Data/airbnb_hw.csv')\n",
    "print(airbnb.shape, '\\n')\n",
    "\n",
    "price = airbnb['Price']  # gets just the price column\n",
    "print(price.unique())\n",
    "\n",
    "price = price.str.replace(',', '')  # removes commas so the values above 999 are still good\n",
    "price = pd.to_numeric(price, errors='coerce')  # convert to numeric data type to easily analyze\n",
    "print('Total missing:', sum(price.isnull()))  # prints count of missing null values\n"
   ]
  },
  {
   "cell_type": "code",
   "execution_count": 38,
   "id": "aba2ed7c",
   "metadata": {},
   "outputs": [
    {
     "data": {
      "text/plain": [
       "0    Unprovoked\n",
       "1      Provoked\n",
       "2    Unprovoked\n",
       "3    Unprovoked\n",
       "4    Unprovoked\n",
       "Name: Type, dtype: object"
      ]
     },
     "execution_count": 38,
     "metadata": {},
     "output_type": "execute_result"
    }
   ],
   "source": [
    "#2\n",
    "shark = pd.read_csv('/Users/nguyen/Desktop/Spring 24/DS 3001/Data/sharks.csv', low_memory=False)\n",
    "shark.head()\n",
    "\n",
    "type = shark['Type']\n",
    "type = shark['Type'].str.lower() #make everything lowercase for consistency \n",
    "type = shark['Type'].replace({'boatomg': 'boating', 'boat': 'boating'}) #correct typos and combine similar column\n",
    "type = shark['Type'].fillna('unknown') #label the na values as unknoqn\n",
    "\n",
    "type.head()\n"
   ]
  },
  {
   "cell_type": "code",
   "execution_count": 39,
   "id": "51df3691",
   "metadata": {},
   "outputs": [
    {
     "ename": "FileNotFoundError",
     "evalue": "[Errno 2] No such file or directory: '/Users/nguyen/Desktop/Spring 24/DS 3001/Data/VirginiaPretrialData2017.csv'",
     "output_type": "error",
     "traceback": [
      "\u001b[0;31m---------------------------------------------------------------------------\u001b[0m",
      "\u001b[0;31mFileNotFoundError\u001b[0m                         Traceback (most recent call last)",
      "Cell \u001b[0;32mIn[39], line 1\u001b[0m\n\u001b[0;32m----> 1\u001b[0m va \u001b[38;5;241m=\u001b[39m pd\u001b[38;5;241m.\u001b[39mread_csv(\u001b[38;5;124m'\u001b[39m\u001b[38;5;124m/Users/nguyen/Desktop/Spring 24/DS 3001/Data/VirginiaPretrialData2017.csv\u001b[39m\u001b[38;5;124m'\u001b[39m, low_memory\u001b[38;5;241m=\u001b[39m\u001b[38;5;28;01mFalse\u001b[39;00m)\n\u001b[1;32m      3\u001b[0m release \u001b[38;5;241m=\u001b[39m va[\u001b[38;5;124m'\u001b[39m\u001b[38;5;124mWhetherDefendantWasReleasedPretrial\u001b[39m\u001b[38;5;124m'\u001b[39m]\n\u001b[1;32m      5\u001b[0m release \u001b[38;5;241m=\u001b[39m release\u001b[38;5;241m.\u001b[39mreplace(\u001b[38;5;241m9\u001b[39m,np\u001b[38;5;241m.\u001b[39mnan) \u001b[38;5;66;03m# In the codebook, the 9's are \"unclear\"\u001b[39;00m\n",
      "File \u001b[0;32m~/anaconda3/lib/python3.11/site-packages/pandas/io/parsers/readers.py:912\u001b[0m, in \u001b[0;36mread_csv\u001b[0;34m(filepath_or_buffer, sep, delimiter, header, names, index_col, usecols, dtype, engine, converters, true_values, false_values, skipinitialspace, skiprows, skipfooter, nrows, na_values, keep_default_na, na_filter, verbose, skip_blank_lines, parse_dates, infer_datetime_format, keep_date_col, date_parser, date_format, dayfirst, cache_dates, iterator, chunksize, compression, thousands, decimal, lineterminator, quotechar, quoting, doublequote, escapechar, comment, encoding, encoding_errors, dialect, on_bad_lines, delim_whitespace, low_memory, memory_map, float_precision, storage_options, dtype_backend)\u001b[0m\n\u001b[1;32m    899\u001b[0m kwds_defaults \u001b[38;5;241m=\u001b[39m _refine_defaults_read(\n\u001b[1;32m    900\u001b[0m     dialect,\n\u001b[1;32m    901\u001b[0m     delimiter,\n\u001b[0;32m   (...)\u001b[0m\n\u001b[1;32m    908\u001b[0m     dtype_backend\u001b[38;5;241m=\u001b[39mdtype_backend,\n\u001b[1;32m    909\u001b[0m )\n\u001b[1;32m    910\u001b[0m kwds\u001b[38;5;241m.\u001b[39mupdate(kwds_defaults)\n\u001b[0;32m--> 912\u001b[0m \u001b[38;5;28;01mreturn\u001b[39;00m _read(filepath_or_buffer, kwds)\n",
      "File \u001b[0;32m~/anaconda3/lib/python3.11/site-packages/pandas/io/parsers/readers.py:577\u001b[0m, in \u001b[0;36m_read\u001b[0;34m(filepath_or_buffer, kwds)\u001b[0m\n\u001b[1;32m    574\u001b[0m _validate_names(kwds\u001b[38;5;241m.\u001b[39mget(\u001b[38;5;124m\"\u001b[39m\u001b[38;5;124mnames\u001b[39m\u001b[38;5;124m\"\u001b[39m, \u001b[38;5;28;01mNone\u001b[39;00m))\n\u001b[1;32m    576\u001b[0m \u001b[38;5;66;03m# Create the parser.\u001b[39;00m\n\u001b[0;32m--> 577\u001b[0m parser \u001b[38;5;241m=\u001b[39m TextFileReader(filepath_or_buffer, \u001b[38;5;241m*\u001b[39m\u001b[38;5;241m*\u001b[39mkwds)\n\u001b[1;32m    579\u001b[0m \u001b[38;5;28;01mif\u001b[39;00m chunksize \u001b[38;5;129;01mor\u001b[39;00m iterator:\n\u001b[1;32m    580\u001b[0m     \u001b[38;5;28;01mreturn\u001b[39;00m parser\n",
      "File \u001b[0;32m~/anaconda3/lib/python3.11/site-packages/pandas/io/parsers/readers.py:1407\u001b[0m, in \u001b[0;36mTextFileReader.__init__\u001b[0;34m(self, f, engine, **kwds)\u001b[0m\n\u001b[1;32m   1404\u001b[0m     \u001b[38;5;28mself\u001b[39m\u001b[38;5;241m.\u001b[39moptions[\u001b[38;5;124m\"\u001b[39m\u001b[38;5;124mhas_index_names\u001b[39m\u001b[38;5;124m\"\u001b[39m] \u001b[38;5;241m=\u001b[39m kwds[\u001b[38;5;124m\"\u001b[39m\u001b[38;5;124mhas_index_names\u001b[39m\u001b[38;5;124m\"\u001b[39m]\n\u001b[1;32m   1406\u001b[0m \u001b[38;5;28mself\u001b[39m\u001b[38;5;241m.\u001b[39mhandles: IOHandles \u001b[38;5;241m|\u001b[39m \u001b[38;5;28;01mNone\u001b[39;00m \u001b[38;5;241m=\u001b[39m \u001b[38;5;28;01mNone\u001b[39;00m\n\u001b[0;32m-> 1407\u001b[0m \u001b[38;5;28mself\u001b[39m\u001b[38;5;241m.\u001b[39m_engine \u001b[38;5;241m=\u001b[39m \u001b[38;5;28mself\u001b[39m\u001b[38;5;241m.\u001b[39m_make_engine(f, \u001b[38;5;28mself\u001b[39m\u001b[38;5;241m.\u001b[39mengine)\n",
      "File \u001b[0;32m~/anaconda3/lib/python3.11/site-packages/pandas/io/parsers/readers.py:1661\u001b[0m, in \u001b[0;36mTextFileReader._make_engine\u001b[0;34m(self, f, engine)\u001b[0m\n\u001b[1;32m   1659\u001b[0m     \u001b[38;5;28;01mif\u001b[39;00m \u001b[38;5;124m\"\u001b[39m\u001b[38;5;124mb\u001b[39m\u001b[38;5;124m\"\u001b[39m \u001b[38;5;129;01mnot\u001b[39;00m \u001b[38;5;129;01min\u001b[39;00m mode:\n\u001b[1;32m   1660\u001b[0m         mode \u001b[38;5;241m+\u001b[39m\u001b[38;5;241m=\u001b[39m \u001b[38;5;124m\"\u001b[39m\u001b[38;5;124mb\u001b[39m\u001b[38;5;124m\"\u001b[39m\n\u001b[0;32m-> 1661\u001b[0m \u001b[38;5;28mself\u001b[39m\u001b[38;5;241m.\u001b[39mhandles \u001b[38;5;241m=\u001b[39m get_handle(\n\u001b[1;32m   1662\u001b[0m     f,\n\u001b[1;32m   1663\u001b[0m     mode,\n\u001b[1;32m   1664\u001b[0m     encoding\u001b[38;5;241m=\u001b[39m\u001b[38;5;28mself\u001b[39m\u001b[38;5;241m.\u001b[39moptions\u001b[38;5;241m.\u001b[39mget(\u001b[38;5;124m\"\u001b[39m\u001b[38;5;124mencoding\u001b[39m\u001b[38;5;124m\"\u001b[39m, \u001b[38;5;28;01mNone\u001b[39;00m),\n\u001b[1;32m   1665\u001b[0m     compression\u001b[38;5;241m=\u001b[39m\u001b[38;5;28mself\u001b[39m\u001b[38;5;241m.\u001b[39moptions\u001b[38;5;241m.\u001b[39mget(\u001b[38;5;124m\"\u001b[39m\u001b[38;5;124mcompression\u001b[39m\u001b[38;5;124m\"\u001b[39m, \u001b[38;5;28;01mNone\u001b[39;00m),\n\u001b[1;32m   1666\u001b[0m     memory_map\u001b[38;5;241m=\u001b[39m\u001b[38;5;28mself\u001b[39m\u001b[38;5;241m.\u001b[39moptions\u001b[38;5;241m.\u001b[39mget(\u001b[38;5;124m\"\u001b[39m\u001b[38;5;124mmemory_map\u001b[39m\u001b[38;5;124m\"\u001b[39m, \u001b[38;5;28;01mFalse\u001b[39;00m),\n\u001b[1;32m   1667\u001b[0m     is_text\u001b[38;5;241m=\u001b[39mis_text,\n\u001b[1;32m   1668\u001b[0m     errors\u001b[38;5;241m=\u001b[39m\u001b[38;5;28mself\u001b[39m\u001b[38;5;241m.\u001b[39moptions\u001b[38;5;241m.\u001b[39mget(\u001b[38;5;124m\"\u001b[39m\u001b[38;5;124mencoding_errors\u001b[39m\u001b[38;5;124m\"\u001b[39m, \u001b[38;5;124m\"\u001b[39m\u001b[38;5;124mstrict\u001b[39m\u001b[38;5;124m\"\u001b[39m),\n\u001b[1;32m   1669\u001b[0m     storage_options\u001b[38;5;241m=\u001b[39m\u001b[38;5;28mself\u001b[39m\u001b[38;5;241m.\u001b[39moptions\u001b[38;5;241m.\u001b[39mget(\u001b[38;5;124m\"\u001b[39m\u001b[38;5;124mstorage_options\u001b[39m\u001b[38;5;124m\"\u001b[39m, \u001b[38;5;28;01mNone\u001b[39;00m),\n\u001b[1;32m   1670\u001b[0m )\n\u001b[1;32m   1671\u001b[0m \u001b[38;5;28;01massert\u001b[39;00m \u001b[38;5;28mself\u001b[39m\u001b[38;5;241m.\u001b[39mhandles \u001b[38;5;129;01mis\u001b[39;00m \u001b[38;5;129;01mnot\u001b[39;00m \u001b[38;5;28;01mNone\u001b[39;00m\n\u001b[1;32m   1672\u001b[0m f \u001b[38;5;241m=\u001b[39m \u001b[38;5;28mself\u001b[39m\u001b[38;5;241m.\u001b[39mhandles\u001b[38;5;241m.\u001b[39mhandle\n",
      "File \u001b[0;32m~/anaconda3/lib/python3.11/site-packages/pandas/io/common.py:859\u001b[0m, in \u001b[0;36mget_handle\u001b[0;34m(path_or_buf, mode, encoding, compression, memory_map, is_text, errors, storage_options)\u001b[0m\n\u001b[1;32m    854\u001b[0m \u001b[38;5;28;01melif\u001b[39;00m \u001b[38;5;28misinstance\u001b[39m(handle, \u001b[38;5;28mstr\u001b[39m):\n\u001b[1;32m    855\u001b[0m     \u001b[38;5;66;03m# Check whether the filename is to be opened in binary mode.\u001b[39;00m\n\u001b[1;32m    856\u001b[0m     \u001b[38;5;66;03m# Binary mode does not support 'encoding' and 'newline'.\u001b[39;00m\n\u001b[1;32m    857\u001b[0m     \u001b[38;5;28;01mif\u001b[39;00m ioargs\u001b[38;5;241m.\u001b[39mencoding \u001b[38;5;129;01mand\u001b[39;00m \u001b[38;5;124m\"\u001b[39m\u001b[38;5;124mb\u001b[39m\u001b[38;5;124m\"\u001b[39m \u001b[38;5;129;01mnot\u001b[39;00m \u001b[38;5;129;01min\u001b[39;00m ioargs\u001b[38;5;241m.\u001b[39mmode:\n\u001b[1;32m    858\u001b[0m         \u001b[38;5;66;03m# Encoding\u001b[39;00m\n\u001b[0;32m--> 859\u001b[0m         handle \u001b[38;5;241m=\u001b[39m \u001b[38;5;28mopen\u001b[39m(\n\u001b[1;32m    860\u001b[0m             handle,\n\u001b[1;32m    861\u001b[0m             ioargs\u001b[38;5;241m.\u001b[39mmode,\n\u001b[1;32m    862\u001b[0m             encoding\u001b[38;5;241m=\u001b[39mioargs\u001b[38;5;241m.\u001b[39mencoding,\n\u001b[1;32m    863\u001b[0m             errors\u001b[38;5;241m=\u001b[39merrors,\n\u001b[1;32m    864\u001b[0m             newline\u001b[38;5;241m=\u001b[39m\u001b[38;5;124m\"\u001b[39m\u001b[38;5;124m\"\u001b[39m,\n\u001b[1;32m    865\u001b[0m         )\n\u001b[1;32m    866\u001b[0m     \u001b[38;5;28;01melse\u001b[39;00m:\n\u001b[1;32m    867\u001b[0m         \u001b[38;5;66;03m# Binary mode\u001b[39;00m\n\u001b[1;32m    868\u001b[0m         handle \u001b[38;5;241m=\u001b[39m \u001b[38;5;28mopen\u001b[39m(handle, ioargs\u001b[38;5;241m.\u001b[39mmode)\n",
      "\u001b[0;31mFileNotFoundError\u001b[0m: [Errno 2] No such file or directory: '/Users/nguyen/Desktop/Spring 24/DS 3001/Data/VirginiaPretrialData2017.csv'"
     ]
    }
   ],
   "source": [
    "#3\n",
    "va = pd.read_csv('/Users/nguyen/Desktop/Spring 24/DS 3001/Data/VirginiaPretrialData2017.csv', low_memory=False)\n",
    "\n",
    "release = va['WhetherDefendantWasReleasedPretrial']\n",
    "\n",
    "release = release.replace(9,np.nan) # 9 is unclear in codebook\n",
    "\n",
    "sum(release.isnull()) # 31 missing values\n",
    "\n",
    "va['WhetherDefendantWasReleasedPretrial'] = release # Replace data column with cleaned values\n"
   ]
  },
  {
   "cell_type": "code",
   "execution_count": null,
   "id": "529632f6",
   "metadata": {},
   "outputs": [],
   "source": [
    "#4\n",
    "length = va['ImposedSentenceAllChargeInContactEvent']\n",
    "length = pd.to_numeric(length,errors='coerce') # make numeric \n",
    "length = length.mask( type == 4, 0) # Replace length with 0 when type is 4\n",
    "length = length.mask( type == 9, np.nan) # Replace length with np.nan when type is 9\n",
    "va['ImposedSentenceAllChargeInContactEvent'] = length \n"
   ]
  },
  {
   "cell_type": "markdown",
   "id": "649494cd-cfd6-4f80-992a-9994fc19e1d5",
   "metadata": {
    "id": "649494cd-cfd6-4f80-992a-9994fc19e1d5"
   },
   "source": [
    "**Q3.** Many important datasets contain a race variable, typically limited to a handful of values often including Black, White, Asian, Latino, and Indigenous. This question looks at data gathering efforts on this variable by the U.S. Federal government.\n",
    "\n",
    "1. How did the most recent US Census gather data on race?\n",
    "2. Why do we gather these data? What role do these kinds of data play in politics and society? Why does data quality matter?\n",
    "3. Please provide a constructive criticism of how the Census was conducted: What was done well? What do you think was missing? How should future large scale surveys be adjusted to best reflect the diversity of the population? Could some of the Census' good practices be adopted more widely to gather richer and more useful data?\n",
    "4. How did the Census gather data on sex and gender? Please provide a similar constructive criticism of their practices.\n",
    "5. When it comes to cleaning data, what concerns do you have about protected characteristics like sex, gender, sexual identity, or race? What challenges can you imagine arising when there are missing values? What good or bad practices might people adopt, and why?\n",
    "6. Suppose someone invented an algorithm to impute values for protected characteristics like race, gender, sex, or sexuality. What kinds of concerns would you have?"
   ]
  }
 ],
 "metadata": {
  "colab": {
   "provenance": []
  },
  "kernelspec": {
   "display_name": "Python 3 (ipykernel)",
   "language": "python",
   "name": "python3"
  },
  "language_info": {
   "codemirror_mode": {
    "name": "ipython",
    "version": 3
   },
   "file_extension": ".py",
   "mimetype": "text/x-python",
   "name": "python",
   "nbconvert_exporter": "python",
   "pygments_lexer": "ipython3",
   "version": "3.11.5"
  }
 },
 "nbformat": 4,
 "nbformat_minor": 5
}
